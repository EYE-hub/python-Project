{
 "cells": [
  {
   "cell_type": "markdown",
   "metadata": {},
   "source": [
    "# Problem: Find a pair of numbers that add up to 10.\n",
    "\n",
    "You are given a list / array with integers.\n",
    "\n",
    "Example Input:  \n",
    "[3, 4, 1, 2, 9]\n",
    "\n",
    "Write a function, pair10(input), which finds and prints out a pair (any of them) of numbers that add up to 10."
   ]
  },
  {
   "cell_type": "markdown",
   "metadata": {},
   "source": [
    "### NOTE: Make sure to run your program once you write it :)"
   ]
  },
  {
   "cell_type": "markdown",
   "metadata": {},
   "source": [
    "# Implement your function below."
   ]
  },
  {
   "cell_type": "code",
   "execution_count": 15,
   "metadata": {},
   "outputs": [],
   "source": [
    "# Input: A list / array with integers.  For example:\n",
    "# [3, 4, 1, 2, 9]\n",
    "# Returns:\n",
    "#  Nothing. However, this function will print out\n",
    "#  a pair of numbers that adds up to 10. For example,\n",
    "#  1, 9.  If no such pair is found, it should print\n",
    "#  \"There is no pair that adds up to 10.\".\n",
    "\n",
    "def pair10(given_list):\n",
    "    middle_point = len(given_list) // 2\n",
    "    left_index = middle_point -1\n",
    "    right_index = middle_point\n",
    "\n",
    "    given_list.sort()\n",
    "\n",
    "    pair = []\n",
    "\n",
    "    while left_index >= 0 and right_index < len(given_list):\n",
    "        print(\"left: \", given_list[left_index], \" | right: \", given_list[right_index])\n",
    "\n",
    "        if given_list[left_index] + given_list[right_index] < 10:\n",
    "            right_index += 1\n",
    "            continue\n",
    "        elif given_list[left_index] + given_list[right_index] > 10:\n",
    "            left_index -= 1\n",
    "            continue\n",
    "        \n",
    "        pair.append([given_list[left_index], given_list[right_index]])\n",
    "\n",
    "        left_index -= 1\n",
    "        right_index += 1\n",
    "        \n",
    "\n",
    "    return pair[0] if pair != [] else \"There is no pair that adds up to 10.\""
   ]
  },
  {
   "cell_type": "markdown",
   "metadata": {},
   "source": [
    "# Use the code below to test your function."
   ]
  },
  {
   "cell_type": "code",
   "execution_count": 16,
   "metadata": {},
   "outputs": [
    {
     "name": "stdout",
     "output_type": "stream",
     "text": [
      "\n",
      "Which pair adds up to 10? (Should print 1, 9)\n",
      "\n",
      "[3, 4, 1, 2, 9]\n",
      "\n",
      "left:  2  | right:  3\n",
      "left:  2  | right:  4\n",
      "left:  2  | right:  9\n",
      "left:  1  | right:  9\n"
     ]
    },
    {
     "data": {
      "text/plain": [
       "[1, 9]"
      ]
     },
     "execution_count": 16,
     "metadata": {},
     "output_type": "execute_result"
    }
   ],
   "source": [
    "print(\"\"\"\n",
    "Which pair adds up to 10? (Should print 1, 9)\n",
    "\n",
    "[3, 4, 1, 2, 9]\n",
    "\"\"\")\n",
    "\n",
    "pair10([3, 4, 1, 2, 9])"
   ]
  },
  {
   "cell_type": "code",
   "execution_count": 17,
   "metadata": {},
   "outputs": [
    {
     "name": "stdout",
     "output_type": "stream",
     "text": [
      "\n",
      "Which pair adds up to 10? (Should print -20, 30)\n",
      "\n",
      "[-11, -20, 2, 4, 30]\n",
      "\n",
      "left:  -11  | right:  2\n",
      "left:  -11  | right:  4\n",
      "left:  -11  | right:  30\n",
      "left:  -20  | right:  30\n"
     ]
    },
    {
     "data": {
      "text/plain": [
       "[-20, 30]"
      ]
     },
     "execution_count": 17,
     "metadata": {},
     "output_type": "execute_result"
    }
   ],
   "source": [
    "print(\"\"\"\n",
    "Which pair adds up to 10? (Should print -20, 30)\n",
    "\n",
    "[-11, -20, 2, 4, 30]\n",
    "\"\"\")\n",
    "\n",
    "pair10([-11, -20, 2, 4, 30])"
   ]
  },
  {
   "cell_type": "code",
   "execution_count": 18,
   "metadata": {},
   "outputs": [
    {
     "name": "stdout",
     "output_type": "stream",
     "text": [
      "\n",
      "Which pair adds up to 10? (Should print 1, 9 or 2, 8)\n",
      "\n",
      "[1, 2, 9, 8]\n",
      "\n",
      "left:  2  | right:  8\n",
      "left:  1  | right:  9\n"
     ]
    },
    {
     "data": {
      "text/plain": [
       "[2, 8]"
      ]
     },
     "execution_count": 18,
     "metadata": {},
     "output_type": "execute_result"
    }
   ],
   "source": [
    "print(\"\"\"\n",
    "Which pair adds up to 10? (Should print 1, 9 or 2, 8)\n",
    "\n",
    "[1, 2, 9, 8]\n",
    "\"\"\")\n",
    "\n",
    "pair10([1, 2, 9, 8])"
   ]
  },
  {
   "cell_type": "code",
   "execution_count": 19,
   "metadata": {},
   "outputs": [
    {
     "name": "stdout",
     "output_type": "stream",
     "text": [
      "\n",
      "Which pair adds up to 10? (Should print 1, 9)\n",
      "\n",
      "[1, 1, 1, 2, 3, 9]\n",
      "\n",
      "left:  1  | right:  2\n",
      "left:  1  | right:  3\n",
      "left:  1  | right:  9\n"
     ]
    },
    {
     "data": {
      "text/plain": [
       "[1, 9]"
      ]
     },
     "execution_count": 19,
     "metadata": {},
     "output_type": "execute_result"
    }
   ],
   "source": [
    "print(\"\"\"\n",
    "Which pair adds up to 10? (Should print 1, 9)\n",
    "\n",
    "[1, 1, 1, 2, 3, 9]\n",
    "\"\"\")\n",
    "\n",
    "pair10([1, 1, 1, 2, 3, 9])"
   ]
  },
  {
   "cell_type": "code",
   "execution_count": 20,
   "metadata": {},
   "outputs": [
    {
     "name": "stdout",
     "output_type": "stream",
     "text": [
      "\n",
      "Which pair adds up to 10? (Should print \"There is no pair that adds up to 10.\")\n",
      "\n",
      "[1, 1, 1, 2, 3, 4, 5]\n",
      "\n",
      "left:  1  | right:  2\n",
      "left:  1  | right:  3\n",
      "left:  1  | right:  4\n",
      "left:  1  | right:  5\n"
     ]
    },
    {
     "data": {
      "text/plain": [
       "'There is no pair that adds up to 10.'"
      ]
     },
     "execution_count": 20,
     "metadata": {},
     "output_type": "execute_result"
    }
   ],
   "source": [
    "print(\"\"\"\n",
    "Which pair adds up to 10? (Should print \"There is no pair that adds up to 10.\")\n",
    "\n",
    "[1, 1, 1, 2, 3, 4, 5]\n",
    "\"\"\")\n",
    "\n",
    "pair10([1, 1, 1, 2, 3, 4, 5])"
   ]
  }
 ],
 "metadata": {
  "anaconda-cloud": {},
  "kernelspec": {
   "display_name": "Python 3",
   "language": "python",
   "name": "python3"
  },
  "language_info": {
   "codemirror_mode": {
    "name": "ipython",
    "version": 3
   },
   "file_extension": ".py",
   "mimetype": "text/x-python",
   "name": "python",
   "nbconvert_exporter": "python",
   "pygments_lexer": "ipython3",
   "version": "3.7.6"
  }
 },
 "nbformat": 4,
 "nbformat_minor": 1
}
