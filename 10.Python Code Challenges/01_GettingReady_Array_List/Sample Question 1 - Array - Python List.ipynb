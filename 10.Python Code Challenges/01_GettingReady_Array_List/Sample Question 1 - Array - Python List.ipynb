{
 "cells": [
  {
   "cell_type": "markdown",
   "metadata": {},
   "source": [
    "# Problem: Find the second largest number in an array!\n",
    "\n",
    "You are given an array (or a Python list) of integers.\n",
    "\n",
    "For example, [1, 3, 4, 5, 0, 2].\n",
    "\n",
    "Write a function, second_largest(given_list), which takes the list as the input, and returns the second largest number.\n",
    "\n",
    "## Examples:\n",
    "\n",
    "- **second_largest( [1, 3, 4, 5, 0, 2] )** should return 4.\n",
    "- **second_largest( [-2, -1] )** should return -2.\n",
    "- **second_largest( [2, 2, 1] )** should return 2.\n",
    "- **second_largest( [2] )** should return None.\n",
    "- **second_largest( [] )** should return None."
   ]
  },
  {
   "cell_type": "markdown",
   "metadata": {},
   "source": [
    "### NOTE: Feel free to use any other language or any other IDE for solving this problem.\n",
    "\n",
    "### NOTE 2: Make sure to run your program once you write it.\n",
    "\n",
    "#### Oh, and most importantly, have fun solving it! :)"
   ]
  },
  {
   "cell_type": "markdown",
   "metadata": {},
   "source": [
    "# Implement your function below."
   ]
  },
  {
   "cell_type": "code",
   "execution_count": 86,
   "metadata": {},
   "outputs": [],
   "source": [
    "# Input:\n",
    "#  a: The given list/array of integers.  Example: [1, -2, 3, 4]\n",
    "# Returns:\n",
    "#  The second largest number in the list or None if\n",
    "#  the array's length is only 1 or 2.\n",
    "\n",
    "def second_largest(given_list):\n",
    "    largest = -999\n",
    "    second_largest = -1000\n",
    "    \n",
    "    if given_list is not None and len(given_list) > 1:\n",
    "            for current_num in given_list:\n",
    "                if current_num > largest:\n",
    "                    second_largest = largest\n",
    "                    if largest > second_largest:\n",
    "                        second_largest = largest\n",
    "                    largest = current_num\n",
    "                else:\n",
    "                    if current_num > second_largest:\n",
    "                        second_largest = current_num\n",
    "            return second_largest\n",
    "    return None"
   ]
  },
  {
   "cell_type": "markdown",
   "metadata": {},
   "source": [
    "# Use the code below to test your function."
   ]
  },
  {
   "cell_type": "code",
   "execution_count": 87,
   "metadata": {},
   "outputs": [
    {
     "name": "stdout",
     "output_type": "stream",
     "text": [
      "The second largest number in [1, 3, 4, 5, 0, 2] is (should be 4):\n",
      "4\n"
     ]
    }
   ],
   "source": [
    "print('The second largest number in [1, 3, 4, 5, 0, 2] is (should be 4):')\n",
    "print(second_largest([1, 3, 4, 5, 0, 2]))"
   ]
  },
  {
   "cell_type": "code",
   "execution_count": 88,
   "metadata": {},
   "outputs": [
    {
     "name": "stdout",
     "output_type": "stream",
     "text": [
      "The second largest number in [-2, -1] is: (should be -2)\n",
      "-2\n"
     ]
    }
   ],
   "source": [
    "print('The second largest number in [-2, -1] is: (should be -2)')\n",
    "print(second_largest([-2, -1]))"
   ]
  },
  {
   "cell_type": "code",
   "execution_count": 72,
   "metadata": {},
   "outputs": [
    {
     "name": "stdout",
     "output_type": "stream",
     "text": [
      "The second largest number in [2, 2, 1] is: (should be 2)\n",
      "2\n"
     ]
    }
   ],
   "source": [
    "print('The second largest number in [2, 2, 1] is: (should be 2)')\n",
    "print(second_largest([2, 2, 1]))"
   ]
  },
  {
   "cell_type": "code",
   "execution_count": 73,
   "metadata": {},
   "outputs": [
    {
     "name": "stdout",
     "output_type": "stream",
     "text": [
      "The second largest number in [2] is: (should be None)\n",
      "None\n"
     ]
    }
   ],
   "source": [
    "print('The second largest number in [2] is: (should be None)')\n",
    "print(second_largest([2]))"
   ]
  },
  {
   "cell_type": "code",
   "execution_count": 74,
   "metadata": {},
   "outputs": [
    {
     "name": "stdout",
     "output_type": "stream",
     "text": [
      "The second largest number in [] is: (should be None)\n",
      "None\n"
     ]
    }
   ],
   "source": [
    "print('The second largest number in [] is: (should be None)')\n",
    "print(second_largest([]))"
   ]
  }
 ],
 "metadata": {
  "anaconda-cloud": {},
  "kernelspec": {
   "display_name": "Python 3",
   "language": "python",
   "name": "python3"
  },
  "language_info": {
   "codemirror_mode": {
    "name": "ipython",
    "version": 3
   },
   "file_extension": ".py",
   "mimetype": "text/x-python",
   "name": "python",
   "nbconvert_exporter": "python",
   "pygments_lexer": "ipython3",
   "version": "3.7.6"
  }
 },
 "nbformat": 4,
 "nbformat_minor": 1
}
