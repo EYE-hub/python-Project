{
 "cells": [
  {
   "cell_type": "code",
   "execution_count": 2,
   "metadata": {},
   "outputs": [],
   "source": [
    "from airtravel import *"
   ]
  },
  {
   "cell_type": "code",
   "execution_count": null,
   "metadata": {},
   "outputs": [],
   "source": [
    "a = Aircraft('G-EUPT', 'Airbus A319', num_rows=22, num_seats_per_row=6)"
   ]
  },
  {
   "cell_type": "code",
   "execution_count": null,
   "metadata": {},
   "outputs": [],
   "source": [
    "a.registration()"
   ]
  },
  {
   "cell_type": "code",
   "execution_count": null,
   "metadata": {},
   "outputs": [],
   "source": [
    "a.model()"
   ]
  },
  {
   "cell_type": "code",
   "execution_count": null,
   "metadata": {},
   "outputs": [],
   "source": [
    "a.seating_plan()"
   ]
  },
  {
   "cell_type": "markdown",
   "metadata": {},
   "source": [
    "---------"
   ]
  },
  {
   "cell_type": "code",
   "execution_count": 3,
   "metadata": {},
   "outputs": [],
   "source": [
    "f = Flight('BA758', Aircraft('G-EUPT', 'Airbus A319', num_rows=22, num_seats_per_row=6))"
   ]
  },
  {
   "cell_type": "code",
   "execution_count": 4,
   "metadata": {},
   "outputs": [
    {
     "data": {
      "text/plain": [
       "'BA758'"
      ]
     },
     "execution_count": 4,
     "metadata": {},
     "output_type": "execute_result"
    }
   ],
   "source": [
    "f.number()"
   ]
  },
  {
   "cell_type": "code",
   "execution_count": 5,
   "metadata": {},
   "outputs": [
    {
     "data": {
      "text/plain": [
       "'Airbus A319'"
      ]
     },
     "execution_count": 5,
     "metadata": {},
     "output_type": "execute_result"
    }
   ],
   "source": [
    "f.aircraft_model()"
   ]
  },
  {
   "cell_type": "code",
   "execution_count": 6,
   "metadata": {},
   "outputs": [
    {
     "data": {
      "text/plain": [
       "[None,\n",
       " {'A': None, 'B': None, 'C': None, 'D': None, 'E': None, 'F': None},\n",
       " {'A': None, 'B': None, 'C': None, 'D': None, 'E': None, 'F': None},\n",
       " {'A': None, 'B': None, 'C': None, 'D': None, 'E': None, 'F': None},\n",
       " {'A': None, 'B': None, 'C': None, 'D': None, 'E': None, 'F': None},\n",
       " {'A': None, 'B': None, 'C': None, 'D': None, 'E': None, 'F': None},\n",
       " {'A': None, 'B': None, 'C': None, 'D': None, 'E': None, 'F': None},\n",
       " {'A': None, 'B': None, 'C': None, 'D': None, 'E': None, 'F': None},\n",
       " {'A': None, 'B': None, 'C': None, 'D': None, 'E': None, 'F': None},\n",
       " {'A': None, 'B': None, 'C': None, 'D': None, 'E': None, 'F': None},\n",
       " {'A': None, 'B': None, 'C': None, 'D': None, 'E': None, 'F': None},\n",
       " {'A': None, 'B': None, 'C': None, 'D': None, 'E': None, 'F': None},\n",
       " {'A': None, 'B': None, 'C': None, 'D': None, 'E': None, 'F': None},\n",
       " {'A': None, 'B': None, 'C': None, 'D': None, 'E': None, 'F': None},\n",
       " {'A': None, 'B': None, 'C': None, 'D': None, 'E': None, 'F': None},\n",
       " {'A': None, 'B': None, 'C': None, 'D': None, 'E': None, 'F': None},\n",
       " {'A': None, 'B': None, 'C': None, 'D': None, 'E': None, 'F': None},\n",
       " {'A': None, 'B': None, 'C': None, 'D': None, 'E': None, 'F': None},\n",
       " {'A': None, 'B': None, 'C': None, 'D': None, 'E': None, 'F': None},\n",
       " {'A': None, 'B': None, 'C': None, 'D': None, 'E': None, 'F': None},\n",
       " {'A': None, 'B': None, 'C': None, 'D': None, 'E': None, 'F': None},\n",
       " {'A': None, 'B': None, 'C': None, 'D': None, 'E': None, 'F': None},\n",
       " {'A': None, 'B': None, 'C': None, 'D': None, 'E': None, 'F': None}]"
      ]
     },
     "execution_count": 6,
     "metadata": {},
     "output_type": "execute_result"
    }
   ],
   "source": [
    "f._seating"
   ]
  },
  {
   "cell_type": "code",
   "execution_count": 7,
   "metadata": {},
   "outputs": [],
   "source": [
    "f.allocate_seat('12C', 'Richard')"
   ]
  },
  {
   "cell_type": "code",
   "execution_count": 8,
   "metadata": {},
   "outputs": [
    {
     "ename": "ValueError",
     "evalue": "Seat 12C is alreay occupied.",
     "output_type": "error",
     "traceback": [
      "\u001b[1;31m---------------------------------------------------------------------------\u001b[0m",
      "\u001b[1;31mValueError\u001b[0m                                Traceback (most recent call last)",
      "\u001b[1;32m<ipython-input-8-8ae16b21cc51>\u001b[0m in \u001b[0;36m<module>\u001b[1;34m\u001b[0m\n\u001b[1;32m----> 1\u001b[1;33m \u001b[0mf\u001b[0m\u001b[1;33m.\u001b[0m\u001b[0mallocate_seat\u001b[0m\u001b[1;33m(\u001b[0m\u001b[1;34m'12C'\u001b[0m\u001b[1;33m,\u001b[0m \u001b[1;34m'Vivian'\u001b[0m\u001b[1;33m)\u001b[0m\u001b[1;33m\u001b[0m\u001b[1;33m\u001b[0m\u001b[0m\n\u001b[0m",
      "\u001b[1;32m~\\Documents\\02.Studies\\Python\\Exercises\\Pluralsight\\Core Python\\01.Core Python - Getting Started\\airtravel.py\u001b[0m in \u001b[0;36mallocate_seat\u001b[1;34m(self, seat, passenger)\u001b[0m\n\u001b[0;32m     56\u001b[0m \u001b[1;33m\u001b[0m\u001b[0m\n\u001b[0;32m     57\u001b[0m         \u001b[1;32mif\u001b[0m \u001b[0mself\u001b[0m\u001b[1;33m.\u001b[0m\u001b[0m_seating\u001b[0m\u001b[1;33m[\u001b[0m\u001b[0mrow\u001b[0m\u001b[1;33m]\u001b[0m\u001b[1;33m[\u001b[0m\u001b[0mletter\u001b[0m\u001b[1;33m]\u001b[0m \u001b[1;32mis\u001b[0m \u001b[1;32mnot\u001b[0m \u001b[1;32mNone\u001b[0m\u001b[1;33m:\u001b[0m\u001b[1;33m\u001b[0m\u001b[1;33m\u001b[0m\u001b[0m\n\u001b[1;32m---> 58\u001b[1;33m             \u001b[1;32mraise\u001b[0m \u001b[0mValueError\u001b[0m\u001b[1;33m(\u001b[0m\u001b[1;34mf'Seat {seat} is alreay occupied.'\u001b[0m\u001b[1;33m)\u001b[0m\u001b[1;33m\u001b[0m\u001b[1;33m\u001b[0m\u001b[0m\n\u001b[0m\u001b[0;32m     59\u001b[0m \u001b[1;33m\u001b[0m\u001b[0m\n\u001b[0;32m     60\u001b[0m         \u001b[0mself\u001b[0m\u001b[1;33m.\u001b[0m\u001b[0m_seating\u001b[0m\u001b[1;33m[\u001b[0m\u001b[0mrow\u001b[0m\u001b[1;33m]\u001b[0m\u001b[1;33m[\u001b[0m\u001b[0mletter\u001b[0m\u001b[1;33m]\u001b[0m \u001b[1;33m=\u001b[0m \u001b[0mpassenger\u001b[0m\u001b[1;33m\u001b[0m\u001b[1;33m\u001b[0m\u001b[0m\n",
      "\u001b[1;31mValueError\u001b[0m: Seat 12C is alreay occupied."
     ]
    }
   ],
   "source": [
    "f.allocate_seat('12C', 'Vivian')"
   ]
  },
  {
   "cell_type": "code",
   "execution_count": 9,
   "metadata": {},
   "outputs": [],
   "source": [
    "f.allocate_seat('12A', 'Vivian')"
   ]
  },
  {
   "cell_type": "code",
   "execution_count": 10,
   "metadata": {},
   "outputs": [
    {
     "ename": "ValueError",
     "evalue": "Invalid Seat Letter 7",
     "output_type": "error",
     "traceback": [
      "\u001b[1;31m---------------------------------------------------------------------------\u001b[0m",
      "\u001b[1;31mValueError\u001b[0m                                Traceback (most recent call last)",
      "\u001b[1;32m<ipython-input-10-096bcece4894>\u001b[0m in \u001b[0;36m<module>\u001b[1;34m\u001b[0m\n\u001b[1;32m----> 1\u001b[1;33m \u001b[0mf\u001b[0m\u001b[1;33m.\u001b[0m\u001b[0mallocate_seat\u001b[0m\u001b[1;33m(\u001b[0m\u001b[1;34m'E27'\u001b[0m\u001b[1;33m,\u001b[0m \u001b[1;34m'Aung'\u001b[0m\u001b[1;33m)\u001b[0m\u001b[1;33m\u001b[0m\u001b[1;33m\u001b[0m\u001b[0m\n\u001b[0m",
      "\u001b[1;32m~\\Documents\\02.Studies\\Python\\Exercises\\Pluralsight\\Core Python\\01.Core Python - Getting Started\\airtravel.py\u001b[0m in \u001b[0;36mallocate_seat\u001b[1;34m(self, seat, passenger)\u001b[0m\n\u001b[0;32m     44\u001b[0m         \u001b[0mletter\u001b[0m \u001b[1;33m=\u001b[0m \u001b[0mseat\u001b[0m\u001b[1;33m[\u001b[0m\u001b[1;33m-\u001b[0m\u001b[1;36m1\u001b[0m\u001b[1;33m]\u001b[0m\u001b[1;33m\u001b[0m\u001b[1;33m\u001b[0m\u001b[0m\n\u001b[0;32m     45\u001b[0m         \u001b[1;32mif\u001b[0m \u001b[0mletter\u001b[0m \u001b[1;32mnot\u001b[0m \u001b[1;32min\u001b[0m \u001b[0mseat_letters\u001b[0m\u001b[1;33m:\u001b[0m\u001b[1;33m\u001b[0m\u001b[1;33m\u001b[0m\u001b[0m\n\u001b[1;32m---> 46\u001b[1;33m             \u001b[1;32mraise\u001b[0m \u001b[0mValueError\u001b[0m\u001b[1;33m(\u001b[0m\u001b[1;34mf'Invalid Seat Letter {letter}'\u001b[0m\u001b[1;33m)\u001b[0m\u001b[1;33m\u001b[0m\u001b[1;33m\u001b[0m\u001b[0m\n\u001b[0m\u001b[0;32m     47\u001b[0m \u001b[1;33m\u001b[0m\u001b[0m\n\u001b[0;32m     48\u001b[0m         \u001b[0mrow_text\u001b[0m \u001b[1;33m=\u001b[0m \u001b[0mseat\u001b[0m\u001b[1;33m[\u001b[0m\u001b[1;33m:\u001b[0m\u001b[1;33m-\u001b[0m\u001b[1;36m1\u001b[0m\u001b[1;33m]\u001b[0m\u001b[1;33m\u001b[0m\u001b[1;33m\u001b[0m\u001b[0m\n",
      "\u001b[1;31mValueError\u001b[0m: Invalid Seat Letter 7"
     ]
    }
   ],
   "source": [
    "f.allocate_seat('E27', 'Aung')"
   ]
  },
  {
   "cell_type": "code",
   "execution_count": 13,
   "metadata": {},
   "outputs": [],
   "source": [
    "f.allocate_seat('1A','Aung')"
   ]
  },
  {
   "cell_type": "code",
   "execution_count": 16,
   "metadata": {},
   "outputs": [
    {
     "data": {
      "text/plain": [
       "[None,\n",
       " {'A': 'Aung', 'B': None, 'C': None, 'D': None, 'E': None, 'F': None},\n",
       " {'A': None, 'B': None, 'C': None, 'D': None, 'E': None, 'F': None},\n",
       " {'A': None, 'B': None, 'C': None, 'D': None, 'E': None, 'F': None},\n",
       " {'A': None, 'B': None, 'C': None, 'D': None, 'E': None, 'F': None},\n",
       " {'A': None, 'B': None, 'C': None, 'D': None, 'E': None, 'F': None},\n",
       " {'A': None, 'B': None, 'C': None, 'D': None, 'E': None, 'F': None},\n",
       " {'A': None, 'B': None, 'C': None, 'D': None, 'E': None, 'F': None},\n",
       " {'A': None, 'B': None, 'C': None, 'D': None, 'E': None, 'F': None},\n",
       " {'A': None, 'B': None, 'C': None, 'D': None, 'E': None, 'F': None},\n",
       " {'A': None, 'B': None, 'C': None, 'D': None, 'E': None, 'F': None},\n",
       " {'A': None, 'B': None, 'C': None, 'D': None, 'E': None, 'F': None},\n",
       " {'A': 'Vivian', 'B': None, 'C': 'Richard', 'D': None, 'E': None, 'F': None},\n",
       " {'A': None, 'B': None, 'C': None, 'D': None, 'E': None, 'F': None},\n",
       " {'A': None, 'B': None, 'C': None, 'D': None, 'E': None, 'F': None},\n",
       " {'A': None, 'B': None, 'C': None, 'D': None, 'E': None, 'F': None},\n",
       " {'A': None, 'B': None, 'C': None, 'D': None, 'E': None, 'F': None},\n",
       " {'A': None, 'B': None, 'C': None, 'D': None, 'E': None, 'F': None},\n",
       " {'A': None, 'B': None, 'C': None, 'D': None, 'E': None, 'F': None},\n",
       " {'A': None, 'B': None, 'C': None, 'D': None, 'E': None, 'F': None},\n",
       " {'A': None, 'B': None, 'C': None, 'D': None, 'E': None, 'F': None},\n",
       " {'A': None, 'B': None, 'C': None, 'D': None, 'E': None, 'F': None},\n",
       " {'A': None, 'B': None, 'C': None, 'D': None, 'E': None, 'F': None}]"
      ]
     },
     "execution_count": 16,
     "metadata": {},
     "output_type": "execute_result"
    }
   ],
   "source": [
    "f._seating"
   ]
  },
  {
   "cell_type": "code",
   "execution_count": null,
   "metadata": {},
   "outputs": [],
   "source": []
  }
 ],
 "metadata": {
  "kernelspec": {
   "display_name": "Python 3",
   "language": "python",
   "name": "python3"
  },
  "language_info": {
   "codemirror_mode": {
    "name": "ipython",
    "version": 3
   },
   "file_extension": ".py",
   "mimetype": "text/x-python",
   "name": "python",
   "nbconvert_exporter": "python",
   "pygments_lexer": "ipython3",
   "version": "3.7.6"
  }
 },
 "nbformat": 4,
 "nbformat_minor": 4
}
