{
 "cells": [
  {
   "cell_type": "markdown",
   "metadata": {},
   "source": [
    "# Days Between Dates"
   ]
  },
  {
   "cell_type": "markdown",
   "metadata": {},
   "source": [
    "Given your birthday and the current date, calculate your age in days.\n",
    "\n",
    "Compensate for leap days. Assume that the birthday and current date are correct dates (and no time travel).\n",
    "\n",
    "Simply put, if you were born 1 Jan 2012 and today's date is 2 Jan 2012, then you are 1 day old."
   ]
  },
  {
   "cell_type": "code",
   "execution_count": 11,
   "metadata": {},
   "outputs": [
    {
     "name": "stdout",
     "output_type": "stream",
     "text": [
      "1\n"
     ]
    }
   ],
   "source": [
    "from datetime import datetime\n",
    "\n",
    "def age_calculator(dob_str):\n",
    "    dob = datetime.strptime(dob_str, \"%d/%m/%Y\")\n",
    "    today = datetime.today()\n",
    "    \n",
    "    date_diff = today - dob\n",
    "    print(date_diff.days)\n",
    "    \n",
    "#Testing\n",
    "age_calculator(\"24/07/2020\")"
   ]
  }
 ],
 "metadata": {
  "kernelspec": {
   "display_name": "Python 3",
   "language": "python",
   "name": "python3"
  },
  "language_info": {
   "codemirror_mode": {
    "name": "ipython",
    "version": 3
   },
   "file_extension": ".py",
   "mimetype": "text/x-python",
   "name": "python",
   "nbconvert_exporter": "python",
   "pygments_lexer": "ipython3",
   "version": "3.7.6"
  }
 },
 "nbformat": 4,
 "nbformat_minor": 4
}
